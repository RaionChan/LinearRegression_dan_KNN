{
 "cells": [
  {
   "cell_type": "code",
   "execution_count": null,
   "metadata": {},
   "outputs": [],
   "source": [
    "import pandas as pd\n",
    "from sklearn.neighbors import NearestNeighbors\n",
    "\n",
    "# Define the music data\n",
    "music_data = {\n",
    "    'song_id': [1, 2, 3, 4, 5],\n",
    "    'title': [\"Bohemian Rhapsody\", \"Shape of You\", \"Despacito\", \"Rolling in the Deep\", \"Perfect\"],\n",
    "    'artist': [\"Queen\", \"Ed Sheeran\", \"Luis Fonsi & Daddy Yankee\", \"Adele\", \"Ed Sheeran\"],\n",
    "    'genre': [\"Rock\", \"Pop\", \"Latin Pop\", \"Soul\", \"Pop\"],\n",
    "    'year': [1975, 2017, 2017, 2011, 2017],\n",
    "    'popularity': [100, 90, 85, 95, 80]\n",
    "}"
   ]
  },
  {
   "cell_type": "code",
   "execution_count": null,
   "metadata": {},
   "outputs": [],
   "source": [
    "# Convert music data to a Pandas DataFrame\n",
    "music_df = pd.DataFrame(music_data)\n",
    "\n",
    "# Define the user's liked song\n",
    "user_liked_song = music_df[music_df['song_id'] == 3]  # Replace 3 with the ID of the song the user liked\n",
    "\n",
    "# Convert user's liked song to a separate DataFrame\n",
    "user_liked_song_df = user_liked_song[['popularity', 'genre', 'year']]\n",
    "\n",
    "# Define the features (popularity, genre, year) for all songs\n",
    "music_features = music_df[['popularity', 'genre', 'year']]\n",
    "\n"
   ]
  },
  {
   "cell_type": "code",
   "execution_count": null,
   "metadata": {},
   "outputs": [],
   "source": [
    "# Create and train the KNN model with k=3\n",
    "model_knn = NearestNeighbors(n_neighbors=3, algorithm='brute')\n",
    "model_knn.fit(music_features)\n",
    "\n",
    "# Get distances and indices to the nearest neighbors\n",
    "distances, indices = model_knn.kneighbors(user_liked_song_df, return_distance=True)\n",
    "\n",
    "# Extract the song IDs of the recommended songs\n",
    "recommended_song_ids = indices.flatten()[1:]\n",
    "\n",
    "# Get the recommended songs data\n",
    "recommended_songs = music_df[music_df['song_id'].isin(recommended_song_ids)]\n",
    "\n"
   ]
  },
  {
   "cell_type": "code",
   "execution_count": null,
   "metadata": {},
   "outputs": [],
   "source": [
    "# Display the recommended songs\n",
    "print(\"Recommended Songs:\")\n",
    "for i in range(len(recommended_songs)):\n",
    "    print(f\"{i+1}. {recommended_songs.iloc[i]['title']} - {recommended_songs.iloc[i]['artist']}\")"
   ]
  }
 ],
 "metadata": {
  "kernelspec": {
   "display_name": "Python 3",
   "language": "python",
   "name": "python3"
  },
  "language_info": {
   "codemirror_mode": {
    "name": "ipython",
    "version": 3
   },
   "file_extension": ".py",
   "mimetype": "text/x-python",
   "name": "python",
   "nbconvert_exporter": "python",
   "pygments_lexer": "ipython3",
   "version": "3.11.9"
  }
 },
 "nbformat": 4,
 "nbformat_minor": 2
}
